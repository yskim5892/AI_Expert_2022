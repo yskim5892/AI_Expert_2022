{
  "nbformat": 4,
  "nbformat_minor": 0,
  "metadata": {
    "colab": {
      "name": "Lab1_1.ipynb",
      "provenance": [],
      "collapsed_sections": [],
      "include_colab_link": true
    },
    "kernelspec": {
      "name": "python3",
      "display_name": "Python 3"
    },
    "accelerator": "GPU"
  },
  "cells": [
    {
      "cell_type": "markdown",
      "metadata": {
        "id": "view-in-github",
        "colab_type": "text"
      },
      "source": [
        "<a href=\"https://colab.research.google.com/github/yskim5892/AI_Expert_2022/blob/main/Lab1_1.ipynb\" target=\"_parent\"><img src=\"https://colab.research.google.com/assets/colab-badge.svg\" alt=\"Open In Colab\"/></a>"
      ]
    },
    {
      "cell_type": "markdown",
      "metadata": {
        "id": "PMuN_nEY1qFr"
      },
      "source": [
        "# Text Cell!\n",
        "* 마크다운 형식의 텍스트 셀입니다\n",
        "* docstring 등 여러 줄 주석을 효과적으로 시각화 할 수 있습니다\n",
        "* 마크다운 문법을 숙지하시고 사용하시면 좋습니다\n",
        "* https://heropy.blog/2017/09/30/markdown/"
      ]
    },
    {
      "cell_type": "code",
      "metadata": {
        "id": "s_Pu6n5i2aa7",
        "colab": {
          "base_uri": "https://localhost:8080/"
        },
        "outputId": "2a46827c-d778-4980-a172-fd0c24eacd0b"
      },
      "source": [
        "# Code Cell!\n",
        "a = 1\n",
        "b = 2\n",
        "print(a+b)\n",
        "\n",
        "# Ctrl+Enter 로 해당 코드 셀 실행"
      ],
      "execution_count": null,
      "outputs": [
        {
          "output_type": "stream",
          "name": "stdout",
          "text": [
            "3\n"
          ]
        }
      ]
    },
    {
      "cell_type": "code",
      "metadata": {
        "id": "Gm956di9_1ZQ",
        "colab": {
          "base_uri": "https://localhost:8080/"
        },
        "outputId": "5d5eaf54-5351-49cd-a83e-62fd763dfd0b"
      },
      "source": [
        "# 각 셀은 한번에 실행할 단위를 뜻함\n",
        "# 실행 이후에도 메모리는 그대로 유지되어 다른 셀의 실행에 영향을 줌\n",
        "a += 3\n",
        "b -= 1\n",
        "print(a+b)"
      ],
      "execution_count": null,
      "outputs": [
        {
          "output_type": "stream",
          "name": "stdout",
          "text": [
            "5\n"
          ]
        }
      ]
    },
    {
      "cell_type": "markdown",
      "metadata": {
        "id": "sXmwhWyrDbGg"
      },
      "source": [
        "# 명령어 실행\n",
        "* **!(터미널 명령어)** 실행으로 터미널에서 명령어를 실행 시 출력 결과를 확인할 수 있음"
      ]
    },
    {
      "cell_type": "code",
      "metadata": {
        "id": "WM3qsQKh_3Wg",
        "colab": {
          "base_uri": "https://localhost:8080/"
        },
        "outputId": "e3b388d2-ae38-4987-f15b-f2aa253e222b"
      },
      "source": [
        "# !cat /etc/issue.net  # OS\n",
        "# !cat /proc/cpuinfo   # CPU\n",
        "# !cat /proc/meminfo   # Memory\n",
        "# !df -h               # Disk\n",
        "!nvidia-smi          # GPU"
      ],
      "execution_count": null,
      "outputs": [
        {
          "output_type": "stream",
          "name": "stdout",
          "text": [
            "Sun Jun  5 11:48:07 2022       \n",
            "+-----------------------------------------------------------------------------+\n",
            "| NVIDIA-SMI 460.32.03    Driver Version: 460.32.03    CUDA Version: 11.2     |\n",
            "|-------------------------------+----------------------+----------------------+\n",
            "| GPU  Name        Persistence-M| Bus-Id        Disp.A | Volatile Uncorr. ECC |\n",
            "| Fan  Temp  Perf  Pwr:Usage/Cap|         Memory-Usage | GPU-Util  Compute M. |\n",
            "|                               |                      |               MIG M. |\n",
            "|===============================+======================+======================|\n",
            "|   0  Tesla T4            Off  | 00000000:00:04.0 Off |                    0 |\n",
            "| N/A   58C    P8    10W /  70W |      0MiB / 15109MiB |      0%      Default |\n",
            "|                               |                      |                  N/A |\n",
            "+-------------------------------+----------------------+----------------------+\n",
            "                                                                               \n",
            "+-----------------------------------------------------------------------------+\n",
            "| Processes:                                                                  |\n",
            "|  GPU   GI   CI        PID   Type   Process name                  GPU Memory |\n",
            "|        ID   ID                                                   Usage      |\n",
            "|=============================================================================|\n",
            "|  No running processes found                                                 |\n",
            "+-----------------------------------------------------------------------------+\n"
          ]
        }
      ]
    },
    {
      "cell_type": "markdown",
      "metadata": {
        "id": "5wj6Tk6-ESUJ"
      },
      "source": [
        "# 구글 드라이브 연동\n",
        "* 하단 코드 실행으로 구글 드라이브 내의 문서를 Colab에서 접근 가능하도록 연동\n",
        "* 좌측 화살표 -> 파일 -> content/drive/My Drive 폴더 안에 드라이브 연동\n",
        "* 가상머신 상에서 현재 경로는 `/content`"
      ]
    },
    {
      "cell_type": "code",
      "metadata": {
        "id": "9wc_oHn9EbOv",
        "colab": {
          "base_uri": "https://localhost:8080/"
        },
        "outputId": "375ae332-6321-4e99-85c8-21a6516b9399"
      },
      "source": [
        "from google.colab import drive\n",
        "drive.mount('/content/drive')"
      ],
      "execution_count": null,
      "outputs": [
        {
          "output_type": "stream",
          "name": "stdout",
          "text": [
            "Mounted at /content/drive\n"
          ]
        }
      ]
    },
    {
      "cell_type": "code",
      "metadata": {
        "id": "WiEJC6wXFBOy",
        "colab": {
          "base_uri": "https://localhost:8080/"
        },
        "outputId": "e590f984-b04d-4058-9249-0f0730d6396f"
      },
      "source": [
        "!pwd"
      ],
      "execution_count": null,
      "outputs": [
        {
          "output_type": "stream",
          "name": "stdout",
          "text": [
            "/content\n"
          ]
        }
      ]
    },
    {
      "cell_type": "code",
      "metadata": {
        "id": "SofddUjuFHLE",
        "colab": {
          "base_uri": "https://localhost:8080/"
        },
        "outputId": "39a48b4a-7f66-4b87-c6c3-b091d12daaf1"
      },
      "source": [
        "!ls 'drive/My Drive/Colab Notebooks'"
      ],
      "execution_count": null,
      "outputs": [
        {
          "output_type": "stream",
          "name": "stdout",
          "text": [
            "Samsung  Untitled0.ipynb\n"
          ]
        }
      ]
    },
    {
      "cell_type": "markdown",
      "metadata": {
        "id": "EGGNfGx5HUQU"
      },
      "source": [
        "# Github 연동\n",
        "* 단일 .ipynb 파일을 clone 하는 방법\n",
        "  * `https://github.com/~~~` 부분을 `https://colab.research.google.com/github/~~~` 로 교체\n",
        "* 전체 repository를 clone하고 싶은 경우\n",
        "  * !git clone project.git\n",
        "  * %cd /your/desired/path\n",
        "* github repository에 파일을 올리는 방법\n",
        "  * 파일 - Github에 사본 저장 선택"
      ]
    },
    {
      "cell_type": "code",
      "metadata": {
        "id": "J4JrfB8TSfn5",
        "colab": {
          "base_uri": "https://localhost:8080/"
        },
        "outputId": "09c9f44c-95ac-4cac-a76a-e817f8932347"
      },
      "source": [
        "%cd 'drive/My Drive/Colab Notebooks'\n",
        "!pwd"
      ],
      "execution_count": null,
      "outputs": [
        {
          "output_type": "stream",
          "name": "stdout",
          "text": [
            "/content/drive/My Drive/Colab Notebooks\n",
            "/content/drive/My Drive/Colab Notebooks\n"
          ]
        }
      ]
    },
    {
      "cell_type": "code",
      "metadata": {
        "id": "p7vBSIvrSos7",
        "colab": {
          "base_uri": "https://localhost:8080/"
        },
        "outputId": "a1726eb5-732b-4b57-fb38-c74f363343b1"
      },
      "source": [
        "!git clone https://github.com/yskim5892/AI_Expert_2022.git test\n",
        "%cd test"
      ],
      "execution_count": null,
      "outputs": [
        {
          "output_type": "stream",
          "name": "stdout",
          "text": [
            "Cloning into 'test'...\n",
            "remote: Enumerating objects: 78, done.\u001b[K\n",
            "remote: Counting objects: 100% (78/78), done.\u001b[K\n",
            "remote: Compressing objects: 100% (75/75), done.\u001b[K\n",
            "remote: Total 78 (delta 39), reused 0 (delta 0), pack-reused 0\u001b[K\n",
            "Unpacking objects: 100% (78/78), done.\n",
            "/content/drive/My Drive/Colab Notebooks/test\n"
          ]
        }
      ]
    },
    {
      "cell_type": "code",
      "metadata": {
        "id": "IfyV1LgESz2Q",
        "colab": {
          "base_uri": "https://localhost:8080/"
        },
        "outputId": "f734a7f8-ac33-456e-bde6-90043ec7d1fb"
      },
      "source": [
        "!git pull origin main"
      ],
      "execution_count": null,
      "outputs": [
        {
          "output_type": "stream",
          "name": "stdout",
          "text": [
            "From https://github.com/illhyhl1111/AI_Expert_2021\n",
            " * branch            main       -> FETCH_HEAD\n",
            "Already up to date.\n"
          ]
        }
      ]
    }
  ]
}